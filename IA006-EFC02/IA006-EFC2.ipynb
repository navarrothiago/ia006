{
 "cells": [
  {
   "cell_type": "markdown",
   "metadata": {},
   "source": [
    "# Parte 1 - Classificação binária"
   ]
  },
  {
   "cell_type": "code",
   "execution_count": null,
   "metadata": {},
   "outputs": [],
   "source": [
    "%load_ext autoreload\n",
    "%autoreload 2\n",
    "%matplotlib inline\n",
    "\n",
    "from IPython.core.interactiveshell import InteractiveShell\n",
    "InteractiveShell.ast_node_interactivity = \"all\"\n"
   ]
  },
  {
   "cell_type": "code",
   "execution_count": null,
   "metadata": {},
   "outputs": [],
   "source": [
    "import pandas as pd\n",
    "import matplotlib.pyplot as plt\n",
    "import pdb;"
   ]
  },
  {
   "cell_type": "code",
   "execution_count": null,
   "metadata": {},
   "outputs": [],
   "source": [
    "from src.efc2 import csv_reader\n",
    "#%pycat efc2/csv_reader.py"
   ]
  },
  {
   "cell_type": "code",
   "execution_count": null,
   "metadata": {},
   "outputs": [],
   "source": [
    "data = csv_reader.load_csv()\n",
    "#data.head(data.shape[0])\n",
    "\n",
    "data = data.drop(\"Unnamed: 0\", 1)\n",
    "data.head(data.shape[0])"
   ]
  },
  {
   "cell_type": "markdown",
   "metadata": {},
   "source": [
    "## Item a"
   ]
  },
  {
   "cell_type": "code",
   "execution_count": null,
   "metadata": {},
   "outputs": [],
   "source": [
    "columns = list(data)\n",
    "\n",
    "plot_rows = int(len(columns) / 2)\n",
    "if(len(columns) % 2 != 0):\n",
    "    plot_rows = plot_rows + 1\n",
    "\n",
    "print(plot_rows)\n",
    "fig1, axs = plt.subplots(plot_rows, 2, constrained_layout=True, figsize=(30,30))\n",
    "\n",
    "data.hist(ax=axs);"
   ]
  },
  {
   "cell_type": "code",
   "execution_count": null,
   "metadata": {},
   "outputs": [],
   "source": [
    "f = plt.figure(figsize=(30, 30))\n",
    "plt.matshow(data.corr(), fignum=f.number)\n",
    "plt.xticks(range(data.shape[1]), data.columns, fontsize=14, rotation=45)\n",
    "plt.yticks(range(data.shape[1]), data.columns, fontsize=14)\n",
    "cb = plt.colorbar()\n",
    "cb.ax.tick_params(labelsize=14)\n",
    "plt.title('Correlation Matrix', fontsize=16);"
   ]
  },
  {
   "cell_type": "markdown",
   "metadata": {},
   "source": [
    "## Item b"
   ]
  },
  {
   "cell_type": "code",
   "execution_count": null,
   "metadata": {},
   "outputs": [],
   "source": [
    "from sklearn.model_selection import train_test_split\n",
    "from sklearn import preprocessing\n",
    "\n",
    "import numpy as np\n",
    "\n",
    "train, test = train_test_split(data, test_size=0.2)"
   ]
  },
  {
   "cell_type": "code",
   "execution_count": null,
   "metadata": {},
   "outputs": [],
   "source": [
    "def gradient_descent(matrix_y, matrix_ye, matrix_phi):\n",
    "    matrix_error = matrix_y - matrix_ye\n",
    "    return -matrix_error.T.dot(matrix_phi)/len(matrix_y)"
   ]
  },
  {
   "cell_type": "code",
   "execution_count": null,
   "metadata": {},
   "outputs": [],
   "source": [
    "def phi(x):\n",
    "    phi1 = np.ones((x.shape[0],1))\n",
    "    return np.append(phi1, x, axis=1)"
   ]
  },
  {
   "cell_type": "code",
   "execution_count": null,
   "metadata": {},
   "outputs": [],
   "source": [
    "# Função custo\n",
    "def j_cross_entropy(targets, predictions, epsilon=1e-12):\n",
    "        \n",
    "    # só funciona se epsilon for maior que zero\n",
    "    assert(epsilon > 0)\n",
    "    \n",
    "    predictions = np.clip(predictions, epsilon, 1. - epsilon)\n",
    "    N = predictions.shape[0]\n",
    "    \n",
    "    #pdb.set_trace()\n",
    "    ce_when_y_1 = -np.sum(targets*np.log(predictions))/N\n",
    "    ce_when_y_0 = - np.sum((1-targets)*np.log(1-predictions))/N\n",
    "    ce = ce_when_y_1 + ce_when_y_0\n",
    "    \n",
    "    #print(\"y = 1 \", ce_when_y_1, \" y = 0\", ce_when_y_0, \" total = \", ce)\n",
    "    \n",
    "    return ce"
   ]
  },
  {
   "cell_type": "markdown",
   "metadata": {},
   "source": [
    "### Fase de Treinamento"
   ]
  },
  {
   "cell_type": "code",
   "execution_count": null,
   "metadata": {},
   "outputs": [],
   "source": [
    "#verificar se pode estar saturando sigmoide.\n",
    "matrix_phi = phi(preprocessing.scale(train.drop(\"label\", 1).values))\n",
    "\n",
    "# matrix com os dados \n",
    "matrix_y = train[\"label\"].values.reshape(train[\"label\"].values.shape[0], 1)\n",
    "\n",
    "matrix_phi\n",
    "#matrix_y"
   ]
  },
  {
   "cell_type": "code",
   "execution_count": null,
   "metadata": {},
   "outputs": [],
   "source": [
    "alpha = 0.1\n",
    "\n",
    "# A dimensão da matrix w é número de atributos mais 1 x 1\n",
    "matrix_w = np.random.rand(train.drop(\"label\", 1).shape[1] + 1, 1)\n",
    "\n",
    "iterations = 1000\n",
    "matrix_cost = np.zeros((iterations,))\n",
    "\n",
    "for i in range(iterations):\n",
    "    z = matrix_phi.dot(matrix_w)\n",
    "    matrix_ye = 1 /(1 + np.exp(-z))\n",
    "    \n",
    "    matrix_w = matrix_w - (alpha) * gradient_descent(matrix_y, matrix_ye, matrix_phi).T\n",
    "    matrix_cost[i] = j_cross_entropy(matrix_y, matrix_ye)\n",
    "    \n",
    "df_cost = pd.DataFrame(matrix_cost,columns=['cost'])\n",
    "df_cost.plot()"
   ]
  },
  {
   "cell_type": "markdown",
   "metadata": {},
   "source": [
    "### Fase de Teste\n"
   ]
  },
  {
   "cell_type": "code",
   "execution_count": null,
   "metadata": {},
   "outputs": [],
   "source": [
    "#verificar se pode estar saturando sigmoide.\n",
    "matrix_phi_test = phi(preprocessing.scale(test.drop(\"label\", 1).values))\n",
    "\n",
    "# matrix com os dados de teste\n",
    "# recupera dados com rotulos label e reshape \n",
    "matrix_y_test = test[\"label\"].values.reshape(test[\"label\"].values.shape[0], 1)\n",
    "\n",
    "# calculando estimativa para todos os dados de teste com o w calculado anteriormente\n",
    "z = matrix_phi_test.dot(matrix_w)\n",
    "matrix_ye_test = 1 /(1 + np.exp(-z))"
   ]
  },
  {
   "cell_type": "code",
   "execution_count": null,
   "metadata": {},
   "outputs": [],
   "source": [
    "matrix_confusion_df = pd.DataFrame([], columns = ['threshold', 'tp', 'fp', 'tn', 'fn'])\n",
    "\n",
    "# definindo threshold\n",
    "for threshold in np.linspace(0, 1, num=21):\n",
    "    #threshold \n",
    "    \n",
    "    # Decisão: coloca (decide por) 1 se for maior, c.c. 0\n",
    "    matrix_ye_test_decided = (matrix_ye_test > threshold).astype(int)\n",
    "\n",
    "    matrix_confusion = [{'threshold':threshold, 'tp':0, 'tn':0, 'fp':0, 'fn':0}]\n",
    "    row_df = pd.DataFrame(matrix_confusion)\n",
    "\n",
    "    #matrix_y_test.T, matrix_ye_test.T\n",
    "\n",
    "    for y, ye in zip(matrix_y_test, matrix_ye_test_decided):\n",
    "        if(y == ye):\n",
    "            if(y == 1):\n",
    "                row_df[\"tp\"] =  row_df[\"tp\"] + 1\n",
    "            else:\n",
    "                row_df[\"tn\"] =  row_df[\"tn\"] + 1\n",
    "        else:\n",
    "            if(y == 1):\n",
    "                # ye == 0, porem y == 0\n",
    "                row_df[\"fn\"] =  row_df[\"fn\"] + 1\n",
    "            else:\n",
    "                # ye == 1, porem y == 0\n",
    "                row_df[\"fp\"] =  row_df[\"fp\"] + 1\n",
    "                \n",
    "    matrix_confusion_df = matrix_confusion_df.append(row_df, sort=False)\n",
    "\n",
    "matrix_confusion_df"
   ]
  },
  {
   "cell_type": "code",
   "execution_count": null,
   "metadata": {},
   "outputs": [],
   "source": [
    "# Curva ROC\n",
    "# x - falso positivo (fp / tn + fp ) = (fp / N-) \n",
    "# y - recall - sensibilidade (tp / tp + fn)\n",
    "x = matrix_confusion_df['fp']/(matrix_confusion_df['tn'] + matrix_confusion_df['fp'])\n",
    "y = matrix_confusion_df['tp']/(matrix_confusion_df['tp'] + matrix_confusion_df['fn'])\n",
    "\n",
    "plt.plot(x,y)\n",
    "    "
   ]
  },
  {
   "cell_type": "code",
   "execution_count": null,
   "metadata": {},
   "outputs": [],
   "source": []
  }
 ],
 "metadata": {
  "kernelspec": {
   "display_name": "Python 3",
   "language": "python",
   "name": "python3"
  },
  "language_info": {
   "codemirror_mode": {
    "name": "ipython",
    "version": 3
   },
   "file_extension": ".py",
   "mimetype": "text/x-python",
   "name": "python",
   "nbconvert_exporter": "python",
   "pygments_lexer": "ipython3",
   "version": "3.6.8"
  }
 },
 "nbformat": 4,
 "nbformat_minor": 2
}
