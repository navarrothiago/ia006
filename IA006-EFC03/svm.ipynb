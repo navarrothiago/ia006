{
 "cells": [
  {
   "cell_type": "code",
   "execution_count": null,
   "metadata": {},
   "outputs": [],
   "source": [
    "import numpy as np\n",
    "import matplotlib.pyplot as plt\n",
    "from sklearn import datasets, svm\n",
    "import scipy.io as sio\n",
    "from sklearn.model_selection import cross_val_score\n",
    "from sklearn.metrics import f1_score\n",
    "from sklearn.model_selection import GridSearchCV\n",
    "from sklearn.metrics import classification_report\n",
    "from sklearn.model_selection import PredefinedSplit\n",
    "from sklearn import preprocessing\n",
    "%matplotlib inline"
   ]
  },
  {
   "cell_type": "code",
   "execution_count": null,
   "metadata": {
    "lines_to_next_cell": 2
   },
   "outputs": [],
   "source": [
    "dados_teste = sio.loadmat('dados_teste.mat')\n",
    "dados_treino = sio.loadmat('dados_treinamento.mat')\n",
    "dados_valid = sio.loadmat('dados_val.mat')\n",
    "\n",
    "X_test = np.array(dados_teste[\"Xt\"])\n",
    "y_test =  np.array(dados_teste[\"yt\"]).astype(np.float)\n",
    "X_train =  np.array(dados_treino[\"X\"])\n",
    "y_train =  np.array(dados_treino[\"y\"]).astype(np.float)\n",
    "X_valid =  np.array(dados_valid[\"Xval\"])\n",
    "y_valid =  np.array(dados_valid[\"yval\"]).astype(np.float)\n",
    "\n",
    "print(np.mean(X_train, axis=0))"
   ]
  },
  {
   "cell_type": "code",
   "execution_count": null,
   "metadata": {},
   "outputs": [],
   "source": [
    "print(np.mean(X_train, axis=0))\n",
    "scaler = preprocessing.StandardScaler().fit(X_train)\n",
    "X_train = scaler.transform(X_train)\n",
    "X_valid = scaler.transform(X_valid)\n",
    "X_test = scaler.transform(X_test)\n",
    "print(scaler.mean_)\n",
    "print(scaler.var_)"
   ]
  },
  {
   "cell_type": "code",
   "execution_count": null,
   "metadata": {},
   "outputs": [],
   "source": [
    "# An \"interface\" to matplotlib.axes.Axes.hist() method\n",
    "n, bins, patches = plt.hist(y_train, bins=20, color='#0504aa',\n",
    "                            alpha=0.7)\n",
    "plt.grid(axis='y', alpha=0.75)\n",
    "plt.xlabel('y_test')\n",
    "plt.ylabel('Frequency')\n",
    "plt.title('Y Train Histogram')\n",
    "plt.show()\n",
    "\n",
    "# An \"interface\" to matplotlib.axes.Axes.hist() method\n",
    "n, bins, patches = plt.hist(X_train, bins=20,alpha=0.7)\n",
    "plt.grid(axis='y', alpha=0.75)\n",
    "plt.xlabel('X_train')\n",
    "plt.ylabel('Frequency')\n",
    "plt.title('Y train Histogram')\n",
    "plt.show()"
   ]
  },
  {
   "cell_type": "code",
   "execution_count": null,
   "metadata": {},
   "outputs": [],
   "source": [
    "    \n",
    "def svm_fit_plot_report(X_train, y_train, X_valid, y_valid, gamma_array, penality_array):\n",
    "    scores = ['accuracy']    \n",
    "    for score in scores:\n",
    "        print(\"# Tuning hyper-parameters for %s\" % score)\n",
    "        print()\n",
    "        parameters = {'C':penality_array, 'gamma':gamma_array}\n",
    "\n",
    "        # The indices which have the value -1 will be kept in train.\n",
    "        train_indices = np.full((len(X_train),), -1, dtype=int)\n",
    "\n",
    "        # The indices which have zero or positive values, will be kept in test\n",
    "        test_indices = np.full((len(X_valid),), 0, dtype=int)\n",
    "        test_fold = np.append(train_indices, test_indices) \n",
    "\n",
    "        ps = PredefinedSplit(test_fold)\n",
    "        \n",
    "        svc = svm.SVC()\n",
    "        clf = GridSearchCV(svc, parameters, cv=ps, n_jobs=-1)\n",
    "        \n",
    "        X = np.concatenate((X_train, X_valid))\n",
    "        y = np.concatenate((y_train.ravel(), y_valid.ravel()))\n",
    "        print(len(X_train))\n",
    "        print(len(X))\n",
    "        clf.fit(X, y)\n",
    "    \n",
    "        print(\"Best parameters set found on development set:\")\n",
    "        print()\n",
    "        print(clf.best_params_)\n",
    "        print()\n",
    "        print(\"Grid scores on development set:\")\n",
    "        print()\n",
    "        means = clf.cv_results_['mean_test_score']\n",
    "        stds = clf.cv_results_['std_test_score']\n",
    "        for mean, std, params in zip(means, stds, clf.cv_results_['params']):\n",
    "            print(\"%0.3f (+/-%0.03f) for %r\"\n",
    "                  % (mean, std * 2, params))\n",
    "        print()\n",
    "\n",
    "        print(\"Detailed classification report:\")\n",
    "        print()\n",
    "        print(\"The model is trained on the full development set.\")\n",
    "        print(\"The scores are computed on the full evaluation set.\")\n",
    "        print()\n",
    "        y_true, y_pred = y_test, clf.predict(X_test)\n",
    "        print(classification_report(y_true, y_pred))\n",
    "        print()\n",
    "    \n",
    "        # Plot the decision boundary. For that, we will assign a color to each\n",
    "        # point in the mesh [x_min, x_max]x[y_min, y_max].\n",
    "        \n",
    "        h = .02  # step size in the mesh\n",
    "        \n",
    "        x_min, x_max = X_train[:, 0].min(), X_train[:, 0].max()\n",
    "        y_min, y_max = X_train[:, 1].min(), X_train[:, 1].max()\n",
    "        \n",
    "        xx, yy = np.meshgrid(np.arange(x_min, x_max, h), np.arange(y_min, y_max, h))\n",
    "        Z = clf.predict(np.c_[xx.ravel(), yy.ravel()])\n",
    "\n",
    "        # Put the result into a color plot\n",
    "        Z = Z.reshape(xx.shape)\n",
    "        plt.pcolormesh(xx, yy, Z, cmap=plt.cm.bwr)\n",
    "\n",
    "        plt.title('2-Class classification using Support Vector Machine')\n",
    "        plt.axis('tight')\n",
    "        plt.show()"
   ]
  },
  {
   "cell_type": "code",
   "execution_count": null,
   "metadata": {
    "scrolled": false
   },
   "outputs": [],
   "source": [
    "svm_fit_plot_report(X_train, y_train.ravel(),\n",
    "                       X_valid, y_valid.ravel(),\n",
    "                       np.geomspace(0.001, 1000, 7), #gamma\n",
    "                       np.geomspace(0.001, 1000, 7)) #penality"
   ]
  },
  {
   "cell_type": "code",
   "execution_count": null,
   "metadata": {},
   "outputs": [],
   "source": []
  }
 ],
 "metadata": {
  "jupytext": {
   "formats": "ipynb,py:percent"
  },
  "kernelspec": {
   "display_name": "Python 3",
   "language": "python",
   "name": "python3"
  },
  "language_info": {
   "codemirror_mode": {
    "name": "ipython",
    "version": 3
   },
   "file_extension": ".py",
   "mimetype": "text/x-python",
   "name": "python",
   "nbconvert_exporter": "python",
   "pygments_lexer": "ipython3",
   "version": "3.6.8"
  }
 },
 "nbformat": 4,
 "nbformat_minor": 2
}
