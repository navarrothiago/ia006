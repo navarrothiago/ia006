{
 "cells": [
  {
   "cell_type": "code",
   "execution_count": null,
   "metadata": {},
   "outputs": [],
   "source": [
    "import numpy as np\n",
    "import matplotlib.pyplot as plt\n",
    "from sklearn import datasets, svm\n",
    "import scipy.io as sio\n",
    "from sklearn.model_selection import cross_val_score\n",
    "%matplotlib inline"
   ]
  },
  {
   "cell_type": "code",
   "execution_count": null,
   "metadata": {},
   "outputs": [],
   "source": [
    "dados_teste = sio.loadmat('dados_teste.mat')\n",
    "dados_treino = sio.loadmat('dados_treinamento.mat')\n",
    "dados_valid = sio.loadmat('dados_val.mat')\n",
    "\n",
    "X_test = np.array(dados_teste[\"Xt\"])\n",
    "y_test =  np.array(dados_teste[\"yt\"])\n",
    "X_train =  np.array(dados_treino[\"X\"])\n",
    "y_train =  np.array(dados_treino[\"y\"])\n",
    "x_valid =  np.array(dados_valid[\"Xval\"])\n",
    "y_valid =  np.array(dados_valid[\"yval\"])\n",
    "\n",
    "iris = datasets.load_iris()\n",
    "X = iris.data[:, :2]  # we only take the first two features. We could\n",
    "                      # avoid this ugly slicing by using a two-dim dataset\n",
    "Y = iris.target\n",
    "\n",
    "def my_kernel(X, Y):\n",
    "    \"\"\"\n",
    "    We create a custom kernel:\n",
    "\n",
    "                 (2  0)\n",
    "    k(X, Y) = X  (    ) Y.T\n",
    "                 (0  1)\n",
    "    \"\"\"\n",
    "    M = np.array([[2, 0], [0, 1.0]])\n",
    "    return np.dot(np.dot(X, M), Y.T)\n",
    "\n",
    "\n",
    "h = .02  # step size in the mesh\n",
    "\n",
    "# we create an instance of SVM and fit out data.\n",
    "#clf = svm.SVC(kernel=my_kernel)"
   ]
  },
  {
   "cell_type": "code",
   "execution_count": null,
   "metadata": {},
   "outputs": [],
   "source": [
    "#clf = svm.SVC(gamma='scale')\n",
    "clf = svm.SVC(gamma=100)\n",
    "clf.fit(X, Y.ravel())\n",
    "\n",
    "# Plot the decision boundary. For that, we will assign a color to each\n",
    "# point in the mesh [x_min, x_max]x[y_min, y_max].\n",
    "x_min, x_max = X[:, 0].min() - 1, X[:, 0].max() + 1\n",
    "y_min, y_max = X[:, 1].min() - 1, X[:, 1].max() + 1\n",
    "xx, yy = np.meshgrid(np.arange(x_min, x_max, h), np.arange(y_min, y_max, h))\n",
    "Z = clf.predict(np.c_[xx.ravel(), yy.ravel()])\n",
    "\n",
    "# Put the result into a color plot\n",
    "Z = Z.reshape(xx.shape)\n",
    "#plt.pcolormesh(xx, yy, Z, cmap=plt.cm.Paired)\n",
    "plt.pcolormesh(xx, yy, Z, cmap=plt.cm.bwr)\n",
    "\n",
    "# Plot also the training points\n",
    "#plt.scatter(X[:, 0], X[:, 1], c=Y.ravel(), cmap=plt.cm.bwr, edgecolors='k', s=10)\n",
    "#plt.scatter(X[:, 0], X[:, 1], c=Y.ravel(), cmap=plt.cm.bwr, s=5, edgecolors='k')\n",
    "#plt.scatter(X[:, 0], X[:, 1], c=Y.ravel(), cmap=plt.cm.bwr, s=5, edgecolors='k')\n",
    "plt.scatter(clf.support_vectors_[:, 0], clf.support_vectors_[:, 1], s=1,\n",
    "                facecolors='none', zorder=10, edgecolors='k')\n",
    "#print(clf.support_vectors_[:, 0].shape[0], X[:, 0].shape[0])\n",
    "plt.title('2-Class classification using Support Vector Machine')\n",
    "plt.axis('tight')\n",
    "plt.show()\n",
    "\n",
    "# Plot also the training points\n",
    "#plt.scatter(X[:, 0], X[:, 1], c=Y.ravel(), cmap=plt.cm.bwr, s=1)\n",
    "#plt.show()"
   ]
  },
  {
   "cell_type": "code",
   "execution_count": null,
   "metadata": {},
   "outputs": [],
   "source": [
    "gamma_array = np.arange(0.1, 100, 0.1)\n",
    "\n",
    "for gamma in gamma_array:\n",
    "    clf = svm.SVC(gamma=gamma)\n",
    "    this_scores = cross_val_score(clf, X, Y.ravel(), cv=5, n_jobs=-1)"
   ]
  },
  {
   "cell_type": "code",
   "execution_count": null,
   "metadata": {},
   "outputs": [],
   "source": [
    "this_scores"
   ]
  },
  {
   "cell_type": "code",
   "execution_count": null,
   "metadata": {},
   "outputs": [],
   "source": []
  }
 ],
 "metadata": {
  "jupytext": {
   "formats": "ipynb,py:percent"
  },
  "kernelspec": {
   "display_name": "Python 3",
   "language": "python",
   "name": "python3"
  },
  "language_info": {
   "codemirror_mode": {
    "name": "ipython",
    "version": 3
   },
   "file_extension": ".py",
   "mimetype": "text/x-python",
   "name": "python",
   "nbconvert_exporter": "python",
   "pygments_lexer": "ipython3",
   "version": "3.6.8"
  }
 },
 "nbformat": 4,
 "nbformat_minor": 2
}
